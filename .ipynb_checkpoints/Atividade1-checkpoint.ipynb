{
 "cells": [
  {
   "cell_type": "code",
   "execution_count": 113,
   "metadata": {},
   "outputs": [],
   "source": [
    "import numpy as np\n",
    "import csv\n",
    "\n",
    "# tipo de dados\n",
    "datos=\"Dados_NaoNormalizados/\"\n",
    "#datos=\"Dados_Normalizados/\"\n",
    "\n",
    "#data set de treinamento\n",
    "datCan_train = []\n",
    "with open(datos + 'cancer_train.csv', 'r') as file:\n",
    "    reader = csv.reader(file)\n",
    "    c=0\n",
    "    for row in reader:\n",
    "        if(c>0):\n",
    "            datCan_train.append(row)\n",
    "        c=c+1        \n",
    "datCan_train=np.array(datCan_train, dtype=np.float32)\n",
    "\n",
    "#data set de teste\n",
    "datCan_test = []\n",
    "with open(datos +'cancer_test.csv', 'r') as file:\n",
    "    reader = csv.reader(file)\n",
    "    c=0\n",
    "    for row in reader:\n",
    "        if(c>0):\n",
    "            datCan_test.append(row)\n",
    "        c=c+1\n",
    "datCan_test=np.array(datCan_test, dtype=np.float32)\n"
   ]
  },
  {
   "cell_type": "code",
   "execution_count": 114,
   "metadata": {},
   "outputs": [],
   "source": [
    "def distEuclidiana(dat,val_nov):\n",
    "    return np.sqrt(np.sum((val_nov-dat)**2, axis=1))\n",
    "\n",
    "def distManhattan(dat,val_nov):\n",
    "    return np.sum(np.abs(val_nov-dat),axis=1)   \n",
    "\n",
    "def TaxaAcu(datPred,datTest):\n",
    "    datPred = np.array(datPred, dtype=np.int)\n",
    "    datTest = np.array(datTest, dtype=np.int)\n",
    "    SumErro = np.sum(np.bitwise_xor(datPred,datTest))\n",
    "    print(\"N de erro: \" + str(SumErro) + \"/\" + str(len(datPred)))\n",
    "    Erro = SumErro / len(datPred)    \n",
    "    return (1 - Erro)"
   ]
  },
  {
   "cell_type": "code",
   "execution_count": 115,
   "metadata": {},
   "outputs": [],
   "source": [
    "distEucl = []\n",
    "IndEucl = []\n",
    "\n",
    "#instâncias ordenadas de forma crescente e distância euclid-manhat\n",
    "for i in range(datCan_test.shape[0]):\n",
    "    distEucl.append(distEuclidiana(datCan_train[:,:-1], datCan_test[i,:-1]))    \n",
    "    #distEucl.append(distManhattan(datCan_train[:,:-1], datCan_test[i,:-1]))    \n",
    "    IndEucl.append(sorted(range(len(distEucl[-1])), key=lambda k: distEucl[-1][k]))\n",
    "        \n",
    "distEucl=np.array(distEucl, dtype=np.float32)\n",
    "IndEucl=np.array(IndEucl, dtype=np.int)"
   ]
  },
  {
   "cell_type": "code",
   "execution_count": 116,
   "metadata": {},
   "outputs": [
    {
     "name": "stdout",
     "output_type": "stream",
     "text": [
      "----------------------------\n",
      "N de erro: 14/114\n",
      "K valor: 1\n",
      "Taxa Acerto: 0.8771929824561404 = 87.71929824561404%\n",
      "----------------------------\n",
      "N de erro: 15/114\n",
      "K valor: 3\n",
      "Taxa Acerto: 0.868421052631579 = 86.8421052631579%\n",
      "----------------------------\n",
      "N de erro: 12/114\n",
      "K valor: 5\n",
      "Taxa Acerto: 0.8947368421052632 = 89.47368421052632%\n",
      "----------------------------\n",
      "N de erro: 13/114\n",
      "K valor: 7\n",
      "Taxa Acerto: 0.8859649122807017 = 88.59649122807018%\n"
     ]
    }
   ],
   "source": [
    "K_val = np.array([1,3,5,7])\n",
    "\n",
    "for k in K_val:\n",
    "    datPredictest = []\n",
    "    for i in range(datCan_test.shape[0]):  \n",
    "        alvaR = 0\n",
    "        for j in range(k):\n",
    "            alvaR = alvaR + datCan_train[IndEucl[i][j],-1]\n",
    "        #print(alvaR/K_val)\n",
    "        datPredictest.append(1 if ((alvaR/k) > 0.5) else 0)\n",
    "\n",
    "    datPredictest = np.array(datPredictest, dtype=np.int)\n",
    "    print(\"----------------------------\")\n",
    "    print(\"K valor: \" + str(k))\n",
    "    taxAc = TaxaAcu(datPredictest,datCan_test[:,-1])    \n",
    "    print(\"Taxa Acerto: \" + str(taxAc)+\n",
    "         \" = \"+ str(taxAc * 100.0) + \"%\")"
   ]
  }
 ],
 "metadata": {
  "kernelspec": {
   "display_name": "Python 3",
   "language": "python",
   "name": "python3"
  },
  "language_info": {
   "codemirror_mode": {
    "name": "ipython",
    "version": 3
   },
   "file_extension": ".py",
   "mimetype": "text/x-python",
   "name": "python",
   "nbconvert_exporter": "python",
   "pygments_lexer": "ipython3",
   "version": "3.7.4"
  }
 },
 "nbformat": 4,
 "nbformat_minor": 2
}
