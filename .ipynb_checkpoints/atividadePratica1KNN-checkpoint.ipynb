{
 "cells": [
  {
   "cell_type": "code",
   "execution_count": 126,
   "metadata": {},
   "outputs": [],
   "source": [
    "import numpy as np\n",
    "import matplotlib.pyplot as plt"
   ]
  },
  {
   "cell_type": "code",
   "execution_count": 68,
   "metadata": {},
   "outputs": [
    {
     "data": {
      "text/plain": [
       "array([16, 15])"
      ]
     },
     "execution_count": 68,
     "metadata": {},
     "output_type": "execute_result"
    }
   ],
   "source": [
    "def normalize(dat):\n",
    "    val_max=np.amax(dat,axis=0)\n",
    "    val_min=np.amin(dat,axis=0)\n",
    "    return (dat-val_min)/(val_max-val_min)"
   ]
  },
  {
   "cell_type": "code",
   "execution_count": 71,
   "metadata": {},
   "outputs": [],
   "source": [
    "dat_norm=normalize(dados,val_max,val_min)"
   ]
  },
  {
   "cell_type": "code",
   "execution_count": 4,
   "metadata": {},
   "outputs": [],
   "source": [
    "def distEuclidiana(dat,val_nov):\n",
    "    return np.sqrt(np.sum((val_nov-dat)**2, axis=1))\n",
    "def distManhattan(dat,val_nov):\n",
    "    return np.sum(val_nov-dat,axis=1)    "
   ]
  },
  {
   "cell_type": "code",
   "execution_count": 2,
   "metadata": {},
   "outputs": [],
   "source": [
    "import csv\n",
    "datCan_train = []\n",
    "with open('cancer_train.csv', 'r') as file:\n",
    "    reader = csv.reader(file)\n",
    "    c=0\n",
    "    for row in reader:\n",
    "        if(c>0):\n",
    "            datCan_train.append(row)\n",
    "        c=c+1\n",
    "        \n",
    "datCan_train=np.array(datCan_train, dtype=np.float32)\n",
    "datCan_test = []\n",
    "\n",
    "with open('cancer_test.csv', 'r') as file:\n",
    "    reader = csv.reader(file)\n",
    "    c=0\n",
    "    for row in reader:\n",
    "        if(c>0):\n",
    "            datCan_test.append(row)\n",
    "        c=c+1\n",
    "datCan_test=np.array(datCan_test, dtype=np.float32)"
   ]
  },
  {
   "cell_type": "code",
   "execution_count": 148,
   "metadata": {},
   "outputs": [
    {
     "name": "stdout",
     "output_type": "stream",
     "text": [
      "0.0\n",
      "0.15384615384615385\n",
      "0.38461538461538464\n",
      "0.0\n",
      "0.0\n",
      "1.0\n",
      "0.0\n",
      "0.46153846153846156\n",
      "0.9230769230769231\n",
      "0.0\n",
      "0.0\n",
      "1.0\n",
      "1.0\n",
      "0.0\n",
      "1.0\n",
      "0.0\n",
      "0.0\n",
      "0.0\n",
      "0.0\n",
      "0.3076923076923077\n",
      "1.0\n",
      "0.9230769230769231\n",
      "1.0\n",
      "1.0\n",
      "1.0\n",
      "0.0\n",
      "0.0\n",
      "0.0\n",
      "0.07692307692307693\n",
      "1.0\n",
      "0.0\n",
      "1.0\n",
      "0.23076923076923078\n",
      "1.0\n",
      "0.0\n",
      "0.0\n",
      "0.0\n",
      "0.0\n",
      "0.0\n",
      "1.0\n",
      "0.6153846153846154\n",
      "0.07692307692307693\n",
      "0.15384615384615385\n",
      "0.9230769230769231\n",
      "0.23076923076923078\n",
      "0.0\n",
      "0.0\n",
      "0.0\n",
      "0.8461538461538461\n",
      "0.07692307692307693\n",
      "0.0\n",
      "0.0\n",
      "0.0\n",
      "0.0\n",
      "0.0\n",
      "1.0\n",
      "0.9230769230769231\n",
      "0.38461538461538464\n",
      "0.0\n",
      "0.0\n",
      "0.07692307692307693\n",
      "1.0\n",
      "0.07692307692307693\n",
      "1.0\n",
      "0.6153846153846154\n",
      "0.0\n",
      "0.0\n",
      "1.0\n",
      "1.0\n",
      "0.46153846153846156\n",
      "0.6153846153846154\n",
      "0.0\n",
      "0.0\n",
      "0.0\n",
      "0.07692307692307693\n",
      "1.0\n",
      "1.0\n",
      "1.0\n",
      "0.0\n",
      "0.15384615384615385\n",
      "0.0\n",
      "0.0\n",
      "0.0\n",
      "0.07692307692307693\n",
      "1.0\n",
      "1.0\n",
      "1.0\n",
      "0.0\n",
      "0.0\n",
      "1.0\n",
      "0.0\n",
      "1.0\n",
      "1.0\n",
      "0.0\n",
      "0.0\n",
      "0.0\n",
      "1.0\n",
      "1.0\n",
      "0.38461538461538464\n",
      "0.23076923076923078\n",
      "1.0\n",
      "0.23076923076923078\n",
      "1.0\n",
      "1.0\n",
      "0.0\n",
      "0.0\n",
      "0.8461538461538461\n",
      "1.0\n",
      "0.46153846153846156\n",
      "0.0\n",
      "0.15384615384615385\n",
      "0.0\n",
      "1.0\n",
      "0.0\n",
      "0.2012466\n",
      "0.2012466\n",
      "0.2012466\n"
     ]
    }
   ],
   "source": [
    "distEucl = []\n",
    "IndEucl = []\n",
    "SorEucl = []\n",
    "\n",
    "K_val = 13\n",
    "\n",
    "datPredictest = []\n",
    "for i in range(datCan_test.shape[0]):\n",
    "    distEucl.append(distEuclidiana(datCan_train[:,:-1], datCan_test[i,:-1]))\n",
    "    SorEucl.append(sorted(distEucl[-1]))\n",
    "    IndEucl.append(sorted(range(len(distEucl[-1])), key=lambda k: distEucl[-1][k]))\n",
    "    alvaR = 0\n",
    "    for j in range(K_val):\n",
    "        alvaR = alvaR + datCan_train[IndEucl[-1][j],-1]\n",
    "    print(alvaR/K_val)\n",
    "    datPredictest.append(1 if ((alvaR/K_val) > 0.5) else 0)\n",
    "        \n",
    "distEucl=np.array(distEucl, dtype=np.float32)\n",
    "SorEucl=np.array(SorEucl, dtype=np.float32)\n",
    "IndEucl=np.array(IndEucl, dtype=np.int)\n",
    "\n",
    "print(np.amin(distEucl[0]))\n",
    "print(SorEucl[0][0])\n",
    "print(distEucl[0][IndEucl[0,0]])"
   ]
  },
  {
   "cell_type": "code",
   "execution_count": 130,
   "metadata": {},
   "outputs": [],
   "source": [
    "distPN = np.linalg.norm(datCan_train[:,:-1] - datCan_test[0,:-1],axis=1)"
   ]
  },
  {
   "cell_type": "code",
   "execution_count": 149,
   "metadata": {},
   "outputs": [
    {
     "name": "stdout",
     "output_type": "stream",
     "text": [
      "[0, 0, 0, 0, 0, 1, 0, 0, 1, 0, 0, 1, 1, 0, 1, 0, 0, 0, 0, 0, 1, 1, 1, 1, 1, 0, 0, 0, 0, 1, 0, 1, 0, 1, 0, 0, 0, 0, 0, 1, 1, 0, 0, 1, 0, 0, 0, 0, 1, 0, 0, 0, 0, 0, 0, 1, 1, 0, 0, 0, 0, 1, 0, 1, 1, 0, 0, 1, 1, 0, 1, 0, 0, 0, 0, 1, 1, 1, 0, 0, 0, 0, 0, 0, 1, 1, 1, 0, 0, 1, 0, 1, 1, 0, 0, 0, 1, 1, 0, 0, 1, 0, 1, 1, 0, 0, 1, 1, 0, 0, 0, 0, 1, 0]\n"
     ]
    }
   ],
   "source": [
    "len(datPredictest)\n",
    "print(datPredictest)"
   ]
  },
  {
   "cell_type": "code",
   "execution_count": null,
   "metadata": {},
   "outputs": [],
   "source": [
    "n1=np.array([1,0,1,0])\n",
    "n2=np.array([0,0,1,1])\n",
    "print(datPredictest.shape)\n",
    "print(datCan_test[:,-1].shape)\n",
    "n1^n2\n",
    "len(datPredictest)"
   ]
  }
 ],
 "metadata": {
  "kernelspec": {
   "display_name": "Python 3",
   "language": "python",
   "name": "python3"
  },
  "language_info": {
   "codemirror_mode": {
    "name": "ipython",
    "version": 3
   },
   "file_extension": ".py",
   "mimetype": "text/x-python",
   "name": "python",
   "nbconvert_exporter": "python",
   "pygments_lexer": "ipython3",
   "version": "3.7.4"
  }
 },
 "nbformat": 4,
 "nbformat_minor": 4
}
