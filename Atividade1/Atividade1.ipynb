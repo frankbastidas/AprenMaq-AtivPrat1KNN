{
 "cells": [
  {
   "cell_type": "code",
   "execution_count": 75,
   "metadata": {},
   "outputs": [],
   "source": [
    "import numpy as np\n",
    "import csv\n",
    "#-----------------------------------------\n",
    "# tipo de dados\n",
    "#datos=\"Dados_NaoNormalizados/\"\n",
    "datos=\"Dados_Normalizados/\"\n",
    "#-----------------------------------------\n",
    "\n",
    "#data set de treinamento\n",
    "datCan_train = []\n",
    "with open(datos + 'cancer_train.csv', 'r') as file:\n",
    "    reader = csv.reader(file)\n",
    "    c=0\n",
    "    for row in reader:\n",
    "        if(c>0):\n",
    "            datCan_train.append(row)\n",
    "        c=c+1        \n",
    "datCan_train=np.array(datCan_train, dtype=np.float32)\n",
    "\n",
    "#data set de teste\n",
    "datCan_test = []\n",
    "with open(datos +'cancer_test.csv', 'r') as file:\n",
    "    reader = csv.reader(file)\n",
    "    c=0\n",
    "    for row in reader:\n",
    "        if(c>0):\n",
    "            datCan_test.append(row)\n",
    "        c=c+1\n",
    "datCan_test=np.array(datCan_test, dtype=np.float32)\n"
   ]
  },
  {
   "cell_type": "code",
   "execution_count": 76,
   "metadata": {},
   "outputs": [],
   "source": [
    "def distEuclidiana(dat,val_nov):\n",
    "    return np.sqrt(np.sum((val_nov-dat)**2, axis=1))\n",
    "\n",
    "def distManhattan(dat,val_nov):\n",
    "    return np.sum(np.abs(val_nov-dat),axis=1)   \n",
    "\n",
    "def TaxaAcu(datPred,datTest):\n",
    "    datPred = np.array(datPred, dtype=np.int)\n",
    "    datTest = np.array(datTest, dtype=np.int)\n",
    "    SumErro = np.sum(np.bitwise_xor(datPred,datTest))\n",
    "    print(\"N de erro: \" + str(SumErro) + \"/\" + str(len(datPred)))\n",
    "    Erro = SumErro / len(datPred)    \n",
    "    return (1 - Erro)"
   ]
  },
  {
   "cell_type": "code",
   "execution_count": 77,
   "metadata": {},
   "outputs": [],
   "source": [
    "distEucl = []\n",
    "IndEucl = []\n",
    "\n",
    "#instâncias ordenadas de forma crescente e distância euclid-manhat\n",
    "for i in range(datCan_test.shape[0]):\n",
    "    #distEucl.append(distEuclidiana(datCan_train[:,:-1], datCan_test[i,:-1])) # Default: distEuclidiana\n",
    "    distEucl.append(distManhattan(datCan_train[:,:-1], datCan_test[i,:-1])) # distManhattan\n",
    "    IndEucl.append(sorted(range(len(distEucl[-1])), key=lambda k: distEucl[-1][k]))\n",
    "        \n",
    "distEucl=np.array(distEucl, dtype=np.float32)\n",
    "IndEucl=np.array(IndEucl, dtype=np.int)"
   ]
  },
  {
   "cell_type": "code",
   "execution_count": 78,
   "metadata": {},
   "outputs": [
    {
     "name": "stdout",
     "output_type": "stream",
     "text": [
      "----------------------------\n",
      "K valor: 1\n",
      "N de erro: 10/114\n",
      "Taxa Acerto: 0.9122807017543859 = 91.22807017543859%\n",
      "----------------------------\n",
      "K valor: 3\n",
      "N de erro: 5/114\n",
      "Taxa Acerto: 0.956140350877193 = 95.6140350877193%\n",
      "----------------------------\n",
      "K valor: 5\n",
      "N de erro: 5/114\n",
      "Taxa Acerto: 0.956140350877193 = 95.6140350877193%\n",
      "----------------------------\n",
      "K valor: 7\n",
      "N de erro: 6/114\n",
      "Taxa Acerto: 0.9473684210526316 = 94.73684210526316%\n"
     ]
    }
   ],
   "source": [
    "K_val = np.array([1,3,5,7])\n",
    "for k in K_val:\n",
    "    datPredictest = []\n",
    "    for i in range(datCan_test.shape[0]):  \n",
    "        alvaR = 0\n",
    "        for j in range(k):\n",
    "            alvaR = alvaR + datCan_train[IndEucl[i][j],-1]\n",
    "        #print(alvaR/K_val)\n",
    "        datPredictest.append(1 if ((alvaR/k) > 0.5) else 0)\n",
    "\n",
    "    datPredictest = np.array(datPredictest, dtype=np.int)\n",
    "    print(\"----------------------------\")\n",
    "    print(\"K valor: \" + str(k))\n",
    "    taxAc = TaxaAcu(datPredictest,datCan_test[:,-1])    \n",
    "    print(\"Taxa Acerto: \" + str(taxAc)+\n",
    "         \" = \"+ str(taxAc * 100.0) + \"%\")"
   ]
  },
  {
   "cell_type": "code",
   "execution_count": 79,
   "metadata": {},
   "outputs": [
    {
     "name": "stdout",
     "output_type": "stream",
     "text": [
      "[  1.           1.           1.           1.           1.\n",
      "   1.           1.           1.           0.860101     1.\n",
      "   1.           0.9995801    1.           1.           1.\n",
      "   0.78219724   1.           1.           1.           0.99808604\n",
      "   1.           1.           1.           1.           0.9722644\n",
      "   1.         375.           1.           1.           1.        ]\n",
      "Max DifValoresMaxMin: 375.0 is in attribute 27\n",
      "Min DifValoresMaxMin: 0.78219724 is in attribute 16\n"
     ]
    }
   ],
   "source": [
    "MaxAtrib = np.max(datCan_train[:,:-1],axis=0)\n",
    "MinAtrib = np.min(datCan_train[:,:-1],axis=0)\n",
    "DifValoresMaxMin=np.abs(MaxAtrib - MinAtrib)\n",
    "MaxArg = np.argmax(DifValoresMaxMin)\n",
    "MinArg = np.argmin(DifValoresMaxMin)\n",
    "print(DifValoresMaxMin)\n",
    "print(\"Max DifValoresMaxMin: \"+str(DifValoresMaxMin[MaxArg]) + \" is in attribute \" + str(MaxArg+1))\n",
    "print(\"Min DifValoresMaxMin: \"+str(DifValoresMaxMin[MinArg]) + \" is in attribute \" + str(MinArg+1))"
   ]
  },
  {
   "cell_type": "code",
   "execution_count": 80,
   "metadata": {},
   "outputs": [
    {
     "name": "stdout",
     "output_type": "stream",
     "text": [
      "(455, 31)\n",
      "(114, 31)\n"
     ]
    }
   ],
   "source": [
    "print(datCan_train.shape)\n",
    "print(datCan_test.shape)"
   ]
  }
 ],
 "metadata": {
  "kernelspec": {
   "display_name": "Python 3",
   "language": "python",
   "name": "python3"
  },
  "language_info": {
   "codemirror_mode": {
    "name": "ipython",
    "version": 3
   },
   "file_extension": ".py",
   "mimetype": "text/x-python",
   "name": "python",
   "nbconvert_exporter": "python",
   "pygments_lexer": "ipython3",
   "version": "3.7.4"
  }
 },
 "nbformat": 4,
 "nbformat_minor": 2
}
